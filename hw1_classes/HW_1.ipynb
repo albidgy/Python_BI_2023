{
 "cells": [
  {
   "cell_type": "markdown",
   "id": "7c5a538f-2dbe-445c-9f46-cf0dc18867e4",
   "metadata": {},
   "source": [
    "# Задание 1 (5 баллов)"
   ]
  },
  {
   "cell_type": "markdown",
   "id": "1e8cc3b0-6f60-40da-8058-30d9eb434daf",
   "metadata": {},
   "source": [
    "Напишите классы **Chat**, **Message** и **User**. Они должны соответствовать следующим требованиям:\n",
    "\n",
    "**Chat**:\n",
    "+ Должен иметь атрибут `chat_history`, где будут храниться все сообщения (`Message`) в обратном хронологическом порядке (сначала новые, затем старые)\n",
    "+ Должен иметь метод `show_last_message`, выводящий на экран информацию о последнем сообщении\n",
    "+ Должен иметь метод `get_history_from_time_period`, который принимает два опциональных аргумента (даты с которой и по какую мы ищем сообщения и выдаём их). Метод также должен возвращать объект типа `Chat`\n",
    "+ Должен иметь метод `show_chat`, выводящий на экран все сообщения (каждое сообщение в таком же виде как и `show_last_message`, но с разделителем между ними)\n",
    "+ Должен иметь метод `recieve`, который будет принимать сообщение и добавлять его в чат\n",
    "\n",
    "**Message**:\n",
    "+ Должен иметь три обязательных атрибута\n",
    "    + `text` - текст сообщения\n",
    "    + `datetime` - дата и время сообщения (встроенный модуль datetime вам в помощь). Важно! Это должна быть не дата создания сообщения, а дата его попадания в чат! \n",
    "    + `user` - информация о пользователе, который оставил сообщение (какой тип данных использовать здесь, разберётесь сами)\n",
    "+ Должен иметь метод `show`, который печатает или возвращает информацию о сообщении с необходимой информацией (дата, время, юзер, текст)\n",
    "+ Должен иметь метод `send`, который будет отправлять сообщение в чат\n",
    "\n",
    "**User**:\n",
    "+ Класс с информацией о юзере, наполнение для этого класса придумайте сами\n",
    "\n",
    "Напишите несколько примеров использования кода, которое показывает взаимодействие между объектами.\n",
    "\n",
    "В тексте задания намерено не указано, какие аргументы должны принимать методы, пускай вам в этом поможет здравый смысл)\n",
    "\n",
    "В этом задании не стоит флексить всякими продвинутыми штуками, для этого есть последующие\n",
    "\n",
    "В этом задании можно использовать только модуль `datetime`"
   ]
  },
  {
   "cell_type": "code",
   "execution_count": 1,
   "id": "bfa8934e",
   "metadata": {},
   "outputs": [],
   "source": [
    "import datetime"
   ]
  },
  {
   "cell_type": "code",
   "execution_count": 2,
   "id": "12ebf6f2",
   "metadata": {},
   "outputs": [],
   "source": [
    "class User:\n",
    "    def __init__(self, user):\n",
    "        self.user = user\n",
    "    \n",
    "    def say_hi(self):\n",
    "        print(f'Hi everyone! I\\'m {self.user}')\n",
    "\n",
    "\n",
    "class Chat:\n",
    "    def __init__(self, chat_history=[]):\n",
    "        self.chat_history = chat_history\n",
    "        self.sent_message_info = None\n",
    "    \n",
    "    def recieve(self):\n",
    "        # add datetime of message and put in at start of list chat_history\n",
    "        if self.sent_message_info is not None:\n",
    "            self.sent_message_info[1] = str(datetime.datetime.now())\n",
    "            self.chat_history.insert(0, self.sent_message_info)\n",
    "            self.sent_message_info = None\n",
    "        else:\n",
    "            raise 'The message wasn\\'t sent to the chat'\n",
    "    \n",
    "    def show_last_message(self, idx=0):\n",
    "        # show last message like - Username (datetime): Text\n",
    "        print(f'{self.chat_history[idx][0]} ({self.chat_history[idx][1]}): {self.chat_history[idx][2]}')    \n",
    "    \n",
    "    def show_chat(self):\n",
    "        # show all history chat the same as show_last_message()\n",
    "        for idx in range(len(self.chat_history)):\n",
    "            self.show_last_message(idx)\n",
    "    \n",
    "    @staticmethod\n",
    "    def __find_time_interval(l_of_datetimes, start, stop):\n",
    "        # supporting method for get_history_for_the_time_period(); find time intervals, return indexes\n",
    "        l_of_idx = []\n",
    "        for idx in range(len(l_of_datetimes)):\n",
    "            if start <= l_of_datetimes[idx][1] <= stop:\n",
    "                l_of_idx.append(idx)\n",
    "        return l_of_idx[0], l_of_idx[-1]\n",
    "    \n",
    "    def get_history_for_the_time_period(self, start=None, stop=None):\n",
    "        # check type of datetime; needs string\n",
    "        if isinstance(start, datetime.datetime):\n",
    "            start = str(start)\n",
    "        if isinstance(stop, datetime.datetime):\n",
    "            stop = str(stop)\n",
    "\n",
    "        # by default use the earliest date (start) and the latest date (stop)\n",
    "        if start is None:\n",
    "            start = self.chat_history[-1][1]\n",
    "        if stop is None:\n",
    "            stop = self.chat_history[0][1]\n",
    "            \n",
    "        idx_start_messages, idx_stop_messages = self.__find_time_interval(self.chat_history, start, stop)\n",
    "        return type(self)(self.chat_history[idx_start_messages:idx_stop_messages+1])    \n",
    "\n",
    "\n",
    "class Message:\n",
    "    def __init__(self, object_chat, user='No_name', text=None):\n",
    "        self._text = text\n",
    "        self._user = user\n",
    "        self._datetime = None\n",
    "        self._object_chat = object_chat\n",
    "    \n",
    "    def send(self):\n",
    "        # send to chat list of message info: user, datetime=None, text\n",
    "        self._object_chat.sent_message_info = [self._user, None, self._text]\n",
    "        \n",
    "    def show(self):\n",
    "        # print message info like - Username (datetime): Text\n",
    "        self._datetime = self._object_chat.chat_history[0][1]\n",
    "        print(f'{self._user} ({self._datetime}): {self._text}')\n",
    "    "
   ]
  },
  {
   "cell_type": "code",
   "execution_count": 3,
   "id": "2e4ee169",
   "metadata": {},
   "outputs": [],
   "source": [
    "chat = Chat()\n",
    "usr1 = User('Sasha')\n",
    "usr2 = User('Vasya')"
   ]
  },
  {
   "cell_type": "code",
   "execution_count": 4,
   "id": "0b37cac2",
   "metadata": {},
   "outputs": [
    {
     "name": "stdout",
     "output_type": "stream",
     "text": [
      "Sasha (2023-02-21 22:53:33.568882): I love pets. What about you?\n"
     ]
    }
   ],
   "source": [
    "mes1 = Message(chat, usr1.user, 'I love pets. What about you?')\n",
    "mes1.send()\n",
    "chat.recieve()\n",
    "mes1.show()"
   ]
  },
  {
   "cell_type": "code",
   "execution_count": 5,
   "id": "0da0850e",
   "metadata": {},
   "outputs": [
    {
     "name": "stdout",
     "output_type": "stream",
     "text": [
      "Vasya (2023-02-21 22:53:33.572658): Yes! I love pets too.\n"
     ]
    }
   ],
   "source": [
    "mes2 = Message(chat, usr2.user, 'Yes! I love pets too.')\n",
    "mes2.send()\n",
    "chat.recieve()\n",
    "mes2.show()"
   ]
  },
  {
   "cell_type": "code",
   "execution_count": 6,
   "id": "fc489e43",
   "metadata": {},
   "outputs": [
    {
     "name": "stdout",
     "output_type": "stream",
     "text": [
      "Sasha (2023-02-21 22:53:33.576421): That's cool.\n"
     ]
    }
   ],
   "source": [
    "mes3 = Message(chat, usr1.user, 'That\\'s cool.')\n",
    "mes3.send()\n",
    "chat.recieve()\n",
    "mes3.show()"
   ]
  },
  {
   "cell_type": "code",
   "execution_count": 7,
   "id": "e39386f5",
   "metadata": {},
   "outputs": [
    {
     "name": "stdout",
     "output_type": "stream",
     "text": [
      "Sasha (2023-02-21 22:53:33.576421): That's cool.\n"
     ]
    }
   ],
   "source": [
    "chat.show_last_message()"
   ]
  },
  {
   "cell_type": "code",
   "execution_count": 8,
   "id": "97805fee",
   "metadata": {},
   "outputs": [
    {
     "name": "stdout",
     "output_type": "stream",
     "text": [
      "Sasha (2023-02-21 22:53:33.576421): That's cool.\n",
      "Vasya (2023-02-21 22:53:33.572658): Yes! I love pets too.\n",
      "Sasha (2023-02-21 22:53:33.568882): I love pets. What about you?\n"
     ]
    }
   ],
   "source": [
    "chat.show_chat()"
   ]
  },
  {
   "cell_type": "code",
   "execution_count": 9,
   "id": "f00d21e9",
   "metadata": {},
   "outputs": [],
   "source": [
    "# new_chat = chat.get_history_for_the_time_period(start=datetime.datetime(2023, 2, 21, 21, 59, 10), stop=datetime.datetime(2023, 2, 21, 21, 59, 24))\n",
    "# new_chat.chat_history"
   ]
  },
  {
   "cell_type": "code",
   "execution_count": 10,
   "id": "7b305011",
   "metadata": {},
   "outputs": [
    {
     "data": {
      "text/plain": [
       "[['Sasha', '2023-02-21 22:53:33.576421', \"That's cool.\"],\n",
       " ['Vasya', '2023-02-21 22:53:33.572658', 'Yes! I love pets too.'],\n",
       " ['Sasha', '2023-02-21 22:53:33.568882', 'I love pets. What about you?']]"
      ]
     },
     "execution_count": 10,
     "metadata": {},
     "output_type": "execute_result"
    }
   ],
   "source": [
    "new_chat = chat.get_history_for_the_time_period()\n",
    "new_chat.chat_history"
   ]
  },
  {
   "cell_type": "markdown",
   "id": "a59aa1b3-4c93-480e-a09f-e57df34eb60a",
   "metadata": {},
   "source": [
    "# Задание 2 (3 балла)"
   ]
  },
  {
   "cell_type": "markdown",
   "id": "ab07eb69-877f-4c38-8c7d-88beae20071b",
   "metadata": {},
   "source": [
    "В питоне как-то слишком типично и неинтересно происходят вызовы функций. Напишите класс `Args`, который будет хранить в себе аргументы, а функции можно будет вызывать при помощи следующего синтаксиса.\n",
    "\n",
    "Использовать любые модули **нельзя**, да и вряд-ли это как-то поможет)"
   ]
  },
  {
   "cell_type": "code",
   "execution_count": 11,
   "id": "d73d6b31-c15a-4ae6-ad9b-b3fdab88efed",
   "metadata": {},
   "outputs": [],
   "source": [
    "class Args:\n",
    "    def __init__(self, *args, **kwargs):\n",
    "        self.args = args\n",
    "        self.kwargs = kwargs\n",
    "\n",
    "    def __rlshift__(self, function):\n",
    "        return function(*self.args, **self.kwargs)"
   ]
  },
  {
   "cell_type": "code",
   "execution_count": 12,
   "id": "55afedbb-4725-4078-bd98-bf803be0bf93",
   "metadata": {},
   "outputs": [
    {
     "data": {
      "text/plain": [
       "3"
      ]
     },
     "execution_count": 12,
     "metadata": {},
     "output_type": "execute_result"
    }
   ],
   "source": [
    "sum << Args([1, 2])"
   ]
  },
  {
   "cell_type": "code",
   "execution_count": 13,
   "id": "c37f0728-9bdc-469e-a5b8-3ab5aa43a731",
   "metadata": {},
   "outputs": [
    {
     "data": {
      "text/plain": [
       "53"
      ]
     },
     "execution_count": 13,
     "metadata": {},
     "output_type": "execute_result"
    }
   ],
   "source": [
    "(lambda a, b, c: a**2 + b + c) << Args(1, 2, c=50)"
   ]
  },
  {
   "cell_type": "markdown",
   "id": "d6915eaf-92fe-460b-bf9b-06ccf55b093f",
   "metadata": {},
   "source": [
    "# Задание 3 (5 баллов)"
   ]
  },
  {
   "cell_type": "markdown",
   "id": "5a588ef8-8af6-42b6-972b-3c716a604c34",
   "metadata": {},
   "source": [
    "Сделайте класс наследник `float`. Он должен вести себя как `float`, но также должен обладать некоторыми особенностями:\n",
    "+ При получении атрибутов формата `<действие>_<число>` мы получаем результат такого действия над нашим числом\n",
    "+ Создавать данные атрибуты в явном виде, очевидно, не стоит\n",
    "\n",
    "Подсказка: если в процессе гуглёжки, вы выйдете на такую тему как **\"Дескрипторы\", то это НЕ то, что вам сейчас нужно**\n",
    "\n",
    "Примеры использования ниже"
   ]
  },
  {
   "cell_type": "code",
   "execution_count": 14,
   "id": "61cb63a2-90ac-4b79-97a5-bb0496262e32",
   "metadata": {},
   "outputs": [],
   "source": [
    "class StrangeFloat(float):\n",
    "    def __init__(self, number):\n",
    "        self._number = number\n",
    "        super().__init__()\n",
    "    \n",
    "    def __getattr__(self, command):\n",
    "        func = command.split('_')[0][0:3]\n",
    "        value = StrangeFloat(command.split('_')[1])\n",
    "        if func == 'div': # attribute for division is not __div__ but __truediv__; need to add true\n",
    "            func = '__true' + func + '__'\n",
    "        else:\n",
    "            func = '__' + func + '__'\n",
    "\n",
    "        bound_method = StrangeFloat.__getattribute__(self, func)\n",
    "        return StrangeFloat(bound_method(value))"
   ]
  },
  {
   "cell_type": "code",
   "execution_count": 15,
   "id": "f730c9c0-7d90-4037-97c6-e926dcbc1ea3",
   "metadata": {},
   "outputs": [],
   "source": [
    "number = StrangeFloat(3.5)"
   ]
  },
  {
   "cell_type": "code",
   "execution_count": 16,
   "id": "b2756368-a489-486d-a0f1-244697f8503c",
   "metadata": {},
   "outputs": [
    {
     "name": "stdout",
     "output_type": "stream",
     "text": [
      "4.5\n"
     ]
    }
   ],
   "source": [
    "print(number.add_1)"
   ]
  },
  {
   "cell_type": "code",
   "execution_count": 17,
   "id": "c6799592-3cb6-4c7d-af62-9c0a48a76c1d",
   "metadata": {},
   "outputs": [
    {
     "data": {
      "text/plain": [
       "-16.5"
      ]
     },
     "execution_count": 17,
     "metadata": {},
     "output_type": "execute_result"
    }
   ],
   "source": [
    "number.subtract_20"
   ]
  },
  {
   "cell_type": "code",
   "execution_count": 18,
   "id": "130027b5-017a-4c70-b072-1fdc6acf670f",
   "metadata": {},
   "outputs": [
    {
     "data": {
      "text/plain": [
       "17.5"
      ]
     },
     "execution_count": 18,
     "metadata": {},
     "output_type": "execute_result"
    }
   ],
   "source": [
    "number.multiply_5"
   ]
  },
  {
   "cell_type": "code",
   "execution_count": 19,
   "id": "2b901e5c-5a51-4788-b15b-9b20a074e1a4",
   "metadata": {},
   "outputs": [
    {
     "data": {
      "text/plain": [
       "0.14"
      ]
     },
     "execution_count": 19,
     "metadata": {},
     "output_type": "execute_result"
    }
   ],
   "source": [
    "number.divide_25"
   ]
  },
  {
   "cell_type": "code",
   "execution_count": 20,
   "id": "ea52c492-b0ce-4d73-8aba-a0ea51ed0b60",
   "metadata": {},
   "outputs": [
    {
     "data": {
      "text/plain": [
       "-4.125"
      ]
     },
     "execution_count": 20,
     "metadata": {},
     "output_type": "execute_result"
    }
   ],
   "source": [
    "number.add_1.add_2.multiply_6.divide_8.subtract_9"
   ]
  },
  {
   "cell_type": "code",
   "execution_count": 21,
   "id": "e26ef411-a5df-46c7-bb9d-e77a1fad3cec",
   "metadata": {},
   "outputs": [
    {
     "data": {
      "text/plain": [
       "1.0"
      ]
     },
     "execution_count": 21,
     "metadata": {},
     "output_type": "execute_result"
    }
   ],
   "source": [
    "getattr(number, \"add_-2.5\")   # Используем getattr, так как не можем написать number.add_-2.5 - это SyntaxError"
   ]
  },
  {
   "cell_type": "markdown",
   "id": "3635bceb-723c-4b2f-82e3-269bd914c46c",
   "metadata": {},
   "source": [
    "# Задание 4 (3 балла)"
   ]
  },
  {
   "cell_type": "markdown",
   "id": "31d35f82-1e20-4bf5-b896-7b8163f8386f",
   "metadata": {},
   "source": [
    "В данном задании мы немного отдохнём и повеселимся. От вас требуется заменить в данном коде максимально возможное количество синтаксических конструкций на вызовы dunder методов, dunder атрибутов и dunder переменных.\n",
    "\n",
    "Маленькая заметка: полностью всё заменить невозможно. Например, `function()` можно записать как `function.__call__()`, но при этом мы всё ещё не избавляемся от скобочек, так что можно делать так до бесконечности `function.__call__.__call__.__call__.__call__.....__call__()` и при всём при этом мы ещё не избавляемся от `.` для доступа к атрибутам. В общем, замените всё, что получится, не закапываясь в повторы, как в приведённом примере. Чем больше разных методов вы найдёте и используете, тем лучше и тем выше будет балл\n",
    "\n",
    "Код по итогу дожен работать и печатать число **4420.0**, как в примере. Структуру кода менять нельзя, просто изменяем конструкции на синонимичные\n",
    "\n",
    "И ещё маленькая подсказка. Заменить здесь можно всё кроме:\n",
    "+ Конструкции `for ... in ...`:\n",
    "+ Синтаксиса создания лямбда функции\n",
    "+ Оператора присваивания `=`\n",
    "+ Конструкции `if-else`"
   ]
  },
  {
   "cell_type": "code",
   "execution_count": 22,
   "id": "2efa586a",
   "metadata": {},
   "outputs": [
    {
     "name": "stdout",
     "output_type": "stream",
     "text": [
      "4420.0\n"
     ]
    }
   ],
   "source": [
    "import numpy as np\n",
    "\n",
    "\n",
    "matrix = []\n",
    "for idx in range(0, 100, 10):\n",
    "    matrix += [list(range(idx, idx + 10))]\n",
    "    \n",
    "selected_columns_indices = list(filter(lambda x: x in range(1, 5, 2), range(len(matrix))))\n",
    "selected_columns = map(lambda x: [x[col] for col in selected_columns_indices], matrix)\n",
    "\n",
    "arr = np.array(list(selected_columns))\n",
    "mask = arr[:, 1] % 3 == 0\n",
    "new_arr = arr[mask]\n",
    "\n",
    "product = new_arr @ new_arr.T\n",
    "\n",
    "if (product[0] < 1000).all() and (product[2] > 1000).any():\n",
    "    print(product.mean())"
   ]
  },
  {
   "cell_type": "code",
   "execution_count": 23,
   "id": "5f05aecf",
   "metadata": {},
   "outputs": [
    {
     "name": "stdout",
     "output_type": "stream",
     "text": [
      "4420.0\n"
     ]
    }
   ],
   "source": [
    "import numpy as np\n",
    "\n",
    "\n",
    "matrix = []\n",
    "for idx in range(0, 100, 10):\n",
    "    matrix.__iadd__([list(range(idx, idx.__add__(10)))])\n",
    "    \n",
    "selected_columns_indices = list(filter(lambda x: x in range(1, 5, 2), range(matrix.__len__())))\n",
    "selected_columns = map(lambda x: [x.__getitem__(col) for col in selected_columns_indices], matrix)\n",
    "                       \n",
    "arr = np.array(list(selected_columns))\n",
    "mask = arr.__getitem__((slice(None), 1)).__mod__(3).__eq__(0)\n",
    "new_arr = arr.__getitem__(mask)\n",
    "\n",
    "product = new_arr.__matmul__(new_arr.T)\n",
    "\n",
    "if product.__getitem__(0).__lt__(1000).__eq__(True).__and__(product.__getitem__(2).__gt__(1000)).__contains__(True):\n",
    "    print(product.mean())"
   ]
  },
  {
   "cell_type": "markdown",
   "id": "e90e5938-cabe-4ee1-9a88-73f25b3b67c3",
   "metadata": {},
   "source": [
    "# Задание 5 (10 баллов)"
   ]
  },
  {
   "cell_type": "markdown",
   "id": "0e58f6a8-7bb8-45f0-b14d-3bcd1f1ba5a9",
   "metadata": {},
   "source": [
    "Напишите абстрактный класс `BiologicalSequence`, который задаёт следующий интерфейс:\n",
    "+ Работа с функцией `len`\n",
    "+ Возможность получать элементы по индексу и делать срезы последовательности (аналогично строкам)\n",
    "+ Вывод на печать в удобном виде и возможность конвертации в строку\n",
    "+ Возможность проверить алфавит последовательности на корректность\n",
    "\n",
    "Напишите класс `NucleicAcidSequence`:\n",
    "+ Данный класс реализует интерфейс `BiologicalSequence`\n",
    "+ Данный класс имеет новый метод `complement`, возвращающий комплементарную последовательность\n",
    "+ Данный класс имеет новый метод `gc_content`, возвращающий GC-состав (без разницы, в процентах или в долях)\n",
    "\n",
    "Напишите классы наследники `NucleicAcidSequence`: `DNASequence` и `RNASequence`\n",
    "+ `RNASequence` должен иметь метод `transcribe`, возвращающий транскрибированную последовательность\n",
    "+ Данные классы не должны иметь <ins>публичных методов</ins> `complement` и метода для проверки алфавита, так как они уже должны быть реализованы в `NucleicAcidSequence`.\n",
    "\n",
    "Напишите класс `AminoAcidSequence`:\n",
    "+ Данный класс реализует интерфейс `BiologicalSequence`\n",
    "+ Данный класс имеет новый метод `translate`, писать логику не обязательно, можно вставить какой-нибудь placeholder\n",
    "\n",
    "\n",
    "Комментарий по поводу метода `NucleicAcidSequence.complement`, так как я хочу, чтобы вы сделали его опредедённым образом:\n",
    "\n",
    "При вызове `dna.complement()` или условного `dna.check_alphabet()` должны будут вызываться соответствующие методы из `NucleicAcidSequence`. При этом, данный метод должен обладать свойством полиморфизма, иначе говоря, внутри `complement` не надо делать условия а-ля `if seuqence_type == \"DNA\": return self.complement_dna()`, это крайне не гибко. Данный метод должен опираться на какой-то общий интерфейс между ДНК и РНК. Создание экземпляров `NucleicAcidSequence` не подразумевается, поэтому код `NucleicAcidSequence(\"ATGC\").complement()` не обязан работать, а в идеале должен кидать исключение `NotImplementedError` при вызове от экземпляра `NucleicAcidSequence`\n",
    "\n",
    "Вся сложность задания в том, чтобы правильно организовать код. Если у вас есть повторяющийся код в сестринских классах или родительском и дочернем, значит вы что-то делаете не так.\n",
    "\n",
    "\n",
    "Маленькое замечание: По-хорошему, между классом `BiologicalSequence` и классами `NucleicAcidSequence` и `AminoAcidSequence`, ещё должен быть класс-прослойка, частично реализующий интерфейс `BiologicalSequence`, но его писать не обязательно, так как задание и так довольно большое (правда из-за этого у вас неминуемо возникнет повторяющийся код в классах `NucleicAcidSequence` и `AminoAcidSequence`)"
   ]
  },
  {
   "cell_type": "code",
   "execution_count": 104,
   "id": "0c82653e",
   "metadata": {},
   "outputs": [],
   "source": [
    "from abc import ABC, abstractmethod\n",
    "\n",
    "\n",
    "class BiologicalSequence(ABC):\n",
    "    @abstractmethod\n",
    "    def __len__(self):\n",
    "        pass\n",
    "    \n",
    "    @abstractmethod\n",
    "    def __getitem__(self):\n",
    "        pass\n",
    "    \n",
    "    @abstractmethod\n",
    "    def __str__(self):\n",
    "        pass\n",
    "    \n",
    "    @abstractmethod\n",
    "    def check_alphabet(self):\n",
    "        pass\n",
    "\n",
    "\n",
    "class AcidSequence(BiologicalSequence):\n",
    "    def __init__(self, sequence):\n",
    "        self._sequence = sequence\n",
    "        self._DICT_COMPLEMENT = None\n",
    "        \n",
    "    def __len__(self):\n",
    "        return len(self._sequence)\n",
    "\n",
    "    def __getitem__(self, idx):\n",
    "        return self._sequence.__getitem__(idx)\n",
    "        \n",
    "    def __str__(self):\n",
    "        return str(self._sequence)\n",
    "\n",
    "    def check_alphabet(self):\n",
    "        if self._DICT_COMPLEMENT is None:\n",
    "            raise NotImplementedError(\n",
    "                'Define check_alphabet in one of the following classes: %s.' % (type(self).__subclasses__()))\n",
    "        else:\n",
    "            for nucl in self._sequence:\n",
    "                if nucl.upper() not in self._DICT_COMPLEMENT:\n",
    "                    return False\n",
    "            return True"
   ]
  },
  {
   "cell_type": "code",
   "execution_count": 105,
   "id": "7ff57543",
   "metadata": {},
   "outputs": [],
   "source": [
    "class NucleicAcidSequence(AcidSequence):\n",
    "    def __init__(self, sequence):\n",
    "        super().__init__(sequence)\n",
    "    \n",
    "    def complement(self):\n",
    "        if self._DICT_COMPLEMENT is None:\n",
    "            raise NotImplementedError(\n",
    "                'Define complement in one of the following classes: %s.' % (type(self).__subclasses__()))\n",
    "        else:\n",
    "            complement_seq = []\n",
    "            for nucl in self._sequence:\n",
    "                complement_seq.append(self._DICT_COMPLEMENT[nucl])\n",
    "            return ''.join(complement_seq[::-1])\n",
    "    \n",
    "    def gc_content(self):\n",
    "        gc_compound = 0\n",
    "        total_len = len(self._sequence)\n",
    "        for nucl in self._sequence:\n",
    "            if nucl.upper() == 'G' or nucl.upper() == 'C':\n",
    "                gc_compound += 1\n",
    "        return gc_compound / total_len * 100\n",
    "\n",
    "\n",
    "class AminoAcidSequence(AcidSequence):\n",
    "    def __init__(self, sequence):\n",
    "        super().__init__(sequence)\n",
    "        self._DICT_COMPLEMENT = {'A':'Ala',\n",
    "                                 'R':'Arg',\n",
    "                                 'N':'Asn',\n",
    "                                 'D':'Asd',\n",
    "                                 'C':'Cys',\n",
    "                                 'Q':'Gln',\n",
    "                                 'E':'Glu',\n",
    "                                 'G':'Gly',\n",
    "                                 'H':'His',\n",
    "                                 'I':'Iso',\n",
    "                                 'L':'Leu',\n",
    "                                 'K':'Lys',\n",
    "                                 'M':'Met',\n",
    "                                 'F':'Phe',\n",
    "                                 'P':'Pro',\n",
    "                                 'S':'Serine',\n",
    "                                 'T':'Thr',\n",
    "                                 'W':'Trp',\n",
    "                                 'Y':'Tyr',\n",
    "                                 'V':'Val',\n",
    "                                 'X':'Glx',\n",
    "                                 'Z':'Gli',\n",
    "                                 'J':'Nle',\n",
    "                                 'U':'Cyc'}\n",
    "    \n",
    "    def translate(self):\n",
    "        # converting a one-letter amino acid sequence to a three-letters sequence\n",
    "        three_letter_translated = []\n",
    "        for nucl in self._sequence:\n",
    "            three_letter_translated.append(self._DICT_COMPLEMENT[nucl])\n",
    "        return '-'.join(three_letter_translated)"
   ]
  },
  {
   "cell_type": "code",
   "execution_count": 106,
   "id": "f17d5d3f-9982-4271-a987-3af7bc071c42",
   "metadata": {},
   "outputs": [],
   "source": [
    "class DNASequence(NucleicAcidSequence):\n",
    "    def __init__(self, sequence):\n",
    "        super().__init__(sequence)\n",
    "        self._DICT_COMPLEMENT = {'A':'T', 'C':'G', 'G':'C', 'T':'A'}\n",
    "        \n",
    "\n",
    "class RNASequence(NucleicAcidSequence):\n",
    "    def __init__(self, sequence):\n",
    "        super().__init__(sequence)\n",
    "        self._DICT_COMPLEMENT = {'A':'U', 'C':'G', 'G':'C', 'U':'A'}\n",
    "        self._TRANSCRIBE_RNA_TO_DNA = {'A':'T', 'U':'A', 'C':'G', 'G':'C'}\n",
    "    \n",
    "    def transcribe(self):\n",
    "        transcriped_seq = []\n",
    "        for nucl in self._sequence:\n",
    "            transcriped_seq.append(self._TRANSCRIBE_RNA_TO_DNA[nucl])\n",
    "        return ''.join(transcriped_seq)        "
   ]
  },
  {
   "cell_type": "code",
   "execution_count": 107,
   "id": "0c0f5788",
   "metadata": {},
   "outputs": [
    {
     "ename": "NotImplementedError",
     "evalue": "Define check_alphabet in one of the following classes: [<class '__main__.DNASequence'>, <class '__main__.RNASequence'>].",
     "output_type": "error",
     "traceback": [
      "\u001b[0;31m---------------------------------------------------------------------------\u001b[0m",
      "\u001b[0;31mNotImplementedError\u001b[0m                       Traceback (most recent call last)",
      "\u001b[0;32m/var/folders/kw/rkyndrz91wv4g2tckwfhn36m0000gn/T/ipykernel_13813/3364516282.py\u001b[0m in \u001b[0;36m<module>\u001b[0;34m\u001b[0m\n\u001b[1;32m      1\u001b[0m \u001b[0mnucl_ac\u001b[0m \u001b[0;34m=\u001b[0m \u001b[0mNucleicAcidSequence\u001b[0m\u001b[0;34m(\u001b[0m\u001b[0;34m'ATGC'\u001b[0m\u001b[0;34m)\u001b[0m\u001b[0;34m\u001b[0m\u001b[0;34m\u001b[0m\u001b[0m\n\u001b[0;32m----> 2\u001b[0;31m \u001b[0mnucl_ac\u001b[0m\u001b[0;34m.\u001b[0m\u001b[0mcheck_alphabet\u001b[0m\u001b[0;34m(\u001b[0m\u001b[0;34m)\u001b[0m\u001b[0;34m\u001b[0m\u001b[0;34m\u001b[0m\u001b[0m\n\u001b[0m",
      "\u001b[0;32m/var/folders/kw/rkyndrz91wv4g2tckwfhn36m0000gn/T/ipykernel_13813/3231034836.py\u001b[0m in \u001b[0;36mcheck_alphabet\u001b[0;34m(self)\u001b[0m\n\u001b[1;32m     36\u001b[0m     \u001b[0;32mdef\u001b[0m \u001b[0mcheck_alphabet\u001b[0m\u001b[0;34m(\u001b[0m\u001b[0mself\u001b[0m\u001b[0;34m)\u001b[0m\u001b[0;34m:\u001b[0m\u001b[0;34m\u001b[0m\u001b[0;34m\u001b[0m\u001b[0m\n\u001b[1;32m     37\u001b[0m         \u001b[0;32mif\u001b[0m \u001b[0mself\u001b[0m\u001b[0;34m.\u001b[0m\u001b[0m_DICT_COMPLEMENT\u001b[0m \u001b[0;32mis\u001b[0m \u001b[0;32mNone\u001b[0m\u001b[0;34m:\u001b[0m\u001b[0;34m\u001b[0m\u001b[0;34m\u001b[0m\u001b[0m\n\u001b[0;32m---> 38\u001b[0;31m             raise NotImplementedError(\n\u001b[0m\u001b[1;32m     39\u001b[0m                 'Define check_alphabet in one of the following classes: %s.' % (type(self).__subclasses__()))\n\u001b[1;32m     40\u001b[0m         \u001b[0;32melse\u001b[0m\u001b[0;34m:\u001b[0m\u001b[0;34m\u001b[0m\u001b[0;34m\u001b[0m\u001b[0m\n",
      "\u001b[0;31mNotImplementedError\u001b[0m: Define check_alphabet in one of the following classes: [<class '__main__.DNASequence'>, <class '__main__.RNASequence'>]."
     ]
    }
   ],
   "source": [
    "nucl_ac = NucleicAcidSequence('ATGC')\n",
    "nucl_ac.check_alphabet()"
   ]
  },
  {
   "cell_type": "code",
   "execution_count": 108,
   "id": "4a8bef71",
   "metadata": {},
   "outputs": [
    {
     "name": "stdout",
     "output_type": "stream",
     "text": [
      "5\n",
      "ACG\n",
      "True\n",
      "40.0\n",
      "UACGU\n",
      "TGCAT\n",
      "ACGUA\n"
     ]
    }
   ],
   "source": [
    "rna = RNASequence('ACGUA')\n",
    "print(len(rna))\n",
    "print(rna[0:3])\n",
    "print(rna.check_alphabet())\n",
    "print(rna.gc_content())\n",
    "print(rna.complement())\n",
    "print(rna.transcribe())\n",
    "print(rna)"
   ]
  },
  {
   "cell_type": "code",
   "execution_count": 109,
   "id": "739170a7",
   "metadata": {},
   "outputs": [
    {
     "data": {
      "text/plain": [
       "'Ala-Iso-Trp-Gli-Cyc'"
      ]
     },
     "execution_count": 109,
     "metadata": {},
     "output_type": "execute_result"
    }
   ],
   "source": [
    "amino = AminoAcidSequence('AIWZU')\n",
    "amino.translate()"
   ]
  },
  {
   "cell_type": "code",
   "execution_count": null,
   "id": "614d4871",
   "metadata": {},
   "outputs": [],
   "source": []
  }
 ],
 "metadata": {
  "kernelspec": {
   "display_name": "Python 3 (ipykernel)",
   "language": "python",
   "name": "python3"
  },
  "language_info": {
   "codemirror_mode": {
    "name": "ipython",
    "version": 3
   },
   "file_extension": ".py",
   "mimetype": "text/x-python",
   "name": "python",
   "nbconvert_exporter": "python",
   "pygments_lexer": "ipython3",
   "version": "3.9.13"
  }
 },
 "nbformat": 4,
 "nbformat_minor": 5
}
