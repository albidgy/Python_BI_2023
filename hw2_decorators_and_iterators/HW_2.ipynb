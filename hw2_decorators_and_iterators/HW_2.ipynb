{
 "cells": [
  {
   "cell_type": "markdown",
   "id": "72f5013c-f4b9-4a1f-aed9-7e47623e7c8a",
   "metadata": {},
   "source": [
    "# Задание 1 (2 балла)"
   ]
  },
  {
   "cell_type": "markdown",
   "id": "0e818fc0-4716-45c6-8942-7b60da358200",
   "metadata": {},
   "source": [
    "Напишите класс `MyDict`, который будет полностью повторять поведение обычного словаря, за исключением того, что при итерации мы должны получать и ключи, и значения.\n",
    "\n",
    "**Модули использовать нельзя**"
   ]
  },
  {
   "cell_type": "code",
   "execution_count": 1,
   "id": "3dc27675-99fc-4040-a8f7-aa20be51c816",
   "metadata": {},
   "outputs": [],
   "source": [
    "class MyDict(dict):    \n",
    "    def __iter__(self):\n",
    "        for key, val in self.items():\n",
    "            yield key, val"
   ]
  },
  {
   "cell_type": "code",
   "execution_count": 2,
   "id": "a96e453e-2553-40b1-889f-cce04c6db771",
   "metadata": {},
   "outputs": [
    {
     "name": "stdout",
     "output_type": "stream",
     "text": [
      "a 1\n",
      "b 2\n",
      "c 3\n",
      "d 25\n"
     ]
    }
   ],
   "source": [
    "dct = MyDict({\"a\": 1, \"b\": 2, \"c\": 3, \"d\": 25})\n",
    "for key, value in dct:\n",
    "    print(key, value)   "
   ]
  },
  {
   "cell_type": "code",
   "execution_count": 3,
   "id": "d3b93507-d88a-4773-8d6f-31990e1effbc",
   "metadata": {},
   "outputs": [
    {
     "name": "stdout",
     "output_type": "stream",
     "text": [
      "a 1\n",
      "b 2\n",
      "c 3\n",
      "d 25\n"
     ]
    }
   ],
   "source": [
    "for key, value in dct.items():\n",
    "    print(key, value)"
   ]
  },
  {
   "cell_type": "code",
   "execution_count": 4,
   "id": "9be2de18-f963-4de0-afba-c183a9a56087",
   "metadata": {},
   "outputs": [
    {
     "name": "stdout",
     "output_type": "stream",
     "text": [
      "a\n",
      "b\n",
      "c\n",
      "d\n"
     ]
    }
   ],
   "source": [
    "for key in dct.keys():\n",
    "    print(key)"
   ]
  },
  {
   "cell_type": "code",
   "execution_count": 5,
   "id": "b7bfbf08-7253-4aab-a9a0-a8e8500c5a29",
   "metadata": {},
   "outputs": [
    {
     "data": {
      "text/plain": [
       "28"
      ]
     },
     "execution_count": 5,
     "metadata": {},
     "output_type": "execute_result"
    }
   ],
   "source": [
    "dct[\"c\"] + dct[\"d\"]"
   ]
  },
  {
   "cell_type": "markdown",
   "id": "4bde5544-afd0-408e-a03b-dad5096ee685",
   "metadata": {},
   "source": [
    "# Задание 2 (2 балла)"
   ]
  },
  {
   "cell_type": "markdown",
   "id": "36e85085-9990-4a2a-a005-f5ef3afd438d",
   "metadata": {},
   "source": [
    "Напишите функцию `iter_append`, которая \"добавляет\" новый элемент в конец итератора, возвращая итератор, который включает изначальные элементы и новый элемент. Итерироваться по итератору внутри функции нельзя, то есть вот такая штука не принимается\n",
    "```python\n",
    "def iter_append(iterator, item):\n",
    "    lst = list(iterator) + [item]\n",
    "    return iter(lst)\n",
    "```\n",
    "\n",
    "**Модули использовать нельзя**"
   ]
  },
  {
   "cell_type": "code",
   "execution_count": 6,
   "id": "c83d9b38",
   "metadata": {},
   "outputs": [
    {
     "data": {
      "text/plain": [
       "[1, 2, 3, 4]"
      ]
     },
     "execution_count": 6,
     "metadata": {},
     "output_type": "execute_result"
    }
   ],
   "source": [
    "def iter_append(iterator, item):\n",
    "    yield from iterator\n",
    "    yield item    \n",
    "\n",
    "my_iterator = iter([1, 2, 3])\n",
    "new_iterator = iter_append(my_iterator, 4)\n",
    "list(new_iterator)"
   ]
  },
  {
   "cell_type": "code",
   "execution_count": 7,
   "id": "d70f202a-0515-4f40-a9b1-4738572a837c",
   "metadata": {},
   "outputs": [],
   "source": [
    "for element in new_iterator:\n",
    "    print(element)"
   ]
  },
  {
   "cell_type": "markdown",
   "id": "72c35894-0caf-41ac-a584-56058b243f29",
   "metadata": {},
   "source": [
    "# Задание 3 (5 баллов)"
   ]
  },
  {
   "cell_type": "markdown",
   "id": "884be4ed-b388-4b36-ad7d-d6835a87425e",
   "metadata": {},
   "source": [
    "Представим, что мы установили себе некотурую библиотеку, которая содержит в себе два класса `MyString` и `MySet`, которые являются наследниками `str` и `set`, но также несут и дополнительные методы.\n",
    "\n",
    "Проблема заключается в том, что библиотеку писали не очень аккуратные люди, поэтому получилось так, что некоторые методы возвращают не тот тип данных, который мы ожидаем. Например, `MyString().reverse()` возвращает объект класса `str`, хотя логичнее было бы ожидать объект класса `MyString`.\n",
    "\n",
    "Найдите и реализуйте удобный способ сделать так, чтобы подобные методы возвращали экземпляр текущего класса, а не родительского. При этом **код методов изменять нельзя**\n",
    "\n",
    "**+3 дополнительных балла** за реализацию того, чтобы **унаследованные от `str` и `set` методы** также возвращали объект интересующего нас класса (то есть `MyString.replace(..., ...)` должен возвращать `MyString`). **Переопределять методы нельзя**\n",
    "\n",
    "**Модули использовать нельзя**"
   ]
  },
  {
   "cell_type": "code",
   "execution_count": 8,
   "id": "e85b03f7",
   "metadata": {},
   "outputs": [],
   "source": [
    "no_change_this_dunders = ['__class__', '__dict__', '__new__', '__str__',\n",
    "                          '__repr__', '__init__', '__name__', '__module__']\n",
    "\n",
    "\n",
    "def get_obj_type(method):        \n",
    "    def inner_func(self, other=None):\n",
    "        if other is None:\n",
    "            if isinstance(method(self), (str, set)):\n",
    "                result = type(self)(method(self))\n",
    "            else:\n",
    "                result = method(self)\n",
    "        else:\n",
    "            if isinstance(method(self, other), (str, set)):\n",
    "                result = type(self)(method(self, other))  \n",
    "            else:\n",
    "                result = method(self, other)\n",
    "        return result\n",
    "    return inner_func\n",
    "\n",
    "def change_obj_type(cls):\n",
    "    for name_attr in dir(cls):  # find all methods of class\n",
    "        if name_attr not in no_change_this_dunders:\n",
    "            attr = getattr(cls, name_attr)\n",
    "            setattr(cls, name_attr, get_obj_type(attr))  # change type of return value\n",
    "    return cls         "
   ]
  },
  {
   "cell_type": "code",
   "execution_count": 9,
   "id": "7973388e-c16f-437f-a1af-30ddd69f7671",
   "metadata": {},
   "outputs": [],
   "source": [
    "@change_obj_type\n",
    "class MyString(str):\n",
    "    def reverse(self):\n",
    "        return self[::-1]\n",
    "    \n",
    "    def make_uppercase(self):\n",
    "        return \"\".join([chr(ord(char) - 32) if 97 <= ord(char) <= 122 else char for char in self])\n",
    "    \n",
    "    def make_lowercase(self):\n",
    "        return \"\".join([chr(ord(char) + 32) if 65 <= ord(char) <= 90 else char for char in self])\n",
    "    \n",
    "    def capitalize_words(self):\n",
    "        return \" \".join([word.capitalize() for word in self.split()])\n",
    "\n",
    "\n",
    "@change_obj_type\n",
    "class MySet(set):\n",
    "    def is_empty(self):\n",
    "        return len(self) == 0\n",
    "    \n",
    "    def has_duplicates(self):\n",
    "        return len(self) != len(set(self))\n",
    "    \n",
    "    def union_with(self, other):\n",
    "        return self.union(other)\n",
    "    \n",
    "    def intersection_with(self, other):\n",
    "        return self.intersection(other)\n",
    "    \n",
    "    def difference_with(self, other):\n",
    "        return self.difference(other)"
   ]
  },
  {
   "cell_type": "code",
   "execution_count": 10,
   "id": "70a250b0",
   "metadata": {},
   "outputs": [
    {
     "name": "stdout",
     "output_type": "stream",
     "text": [
      "<class '__main__.MyString'>\n",
      "<class '__main__.MyString'>\n",
      "<class '__main__.MyString'>\n",
      "<class '__main__.MyString'>\n",
      "<class '__main__.MyString'>\n",
      "<class 'int'>\n",
      "<class '__main__.MyString'>\n",
      "\n",
      "<class 'bool'>\n",
      "<class 'bool'>\n",
      "<class '__main__.MySet'>\n",
      "<class '__main__.MySet'>\n",
      "<class '__main__.MySet'>\n",
      "<class 'NoneType'>\n",
      "MySet({1, 2, 3, 4, 10})\n",
      "<class 'NoneType'>\n"
     ]
    }
   ],
   "source": [
    "string_example = MyString(\"Aa Bb Cc\")\n",
    "string_example2 = MyString(\"Dd\")\n",
    "set_example_1 = MySet({1, 2, 3, 4})\n",
    "set_example_2 = MySet({3, 4, 5, 6, 6})\n",
    "print(type(string_example.reverse()))\n",
    "print(type(string_example.make_uppercase()))\n",
    "print(type(string_example.make_lowercase()))\n",
    "print(type(string_example.capitalize_words()))\n",
    "print(type(string_example.lower())) # method from string class\n",
    "print(type(string_example.find('Bb')))\n",
    "print(type(string_example.__add__(string_example2)))\n",
    "print()\n",
    "print(type(set_example_1.is_empty()))\n",
    "print(type(set_example_2.has_duplicates()))\n",
    "print(type(set_example_1.union_with(set_example_2)))\n",
    "print(type(set_example_1.difference_with(set_example_2)))\n",
    "print(type(set_example_1.union(set_example_2))) # method from set class\n",
    "print(type(set_example_1.add(10)))  # doesn't break with return format NoneType; method(self, other)\n",
    "print(set_example_1)\n",
    "print(type(set_example_1.clear()))  # doesn't break with return format NoneType; method(self)"
   ]
  },
  {
   "cell_type": "markdown",
   "id": "f246ecea-9aaa-45c6-98e4-996dc9cdce14",
   "metadata": {},
   "source": [
    "# Задание 4 (5 баллов)"
   ]
  },
  {
   "cell_type": "markdown",
   "id": "e66831d7-df9c-4778-9942-bbb8796fef1e",
   "metadata": {},
   "source": [
    "Напишите декоратор `switch_privacy`:\n",
    "1. Делает все публичные **методы** класса приватными\n",
    "2. Делает все приватные методы класса публичными\n",
    "3. Dunder методы и защищённые методы остаются без изменений\n",
    "4. Должен работать тестовый код ниже, в теле класса писать код нельзя\n",
    "\n",
    "**Модули использовать нельзя**"
   ]
  },
  {
   "cell_type": "markdown",
   "id": "654eca47",
   "metadata": {},
   "source": [
    "1. Вытащить все атрибуты\n",
    "2. Заменить на новые\n",
    "3. Удалить прошлые "
   ]
  },
  {
   "cell_type": "code",
   "execution_count": 11,
   "id": "fc16646b",
   "metadata": {},
   "outputs": [],
   "source": [
    "def swich_property(cls):\n",
    "    for name_attr in dir(cls):\n",
    "        if name_attr[0] != '_':\n",
    "            renamed_method = f'_{cls.__name__}__' + name_attr\n",
    "        elif name_attr.startswith(f'_{cls.__name__}__'):\n",
    "            renamed_method = name_attr.split('__')[1]\n",
    "        else:\n",
    "            continue\n",
    "        attr = getattr(cls, name_attr)\n",
    "        setattr(cls, renamed_method, attr)\n",
    "        delattr(cls, name_attr)\n",
    "    \n",
    "    return cls"
   ]
  },
  {
   "cell_type": "code",
   "execution_count": 12,
   "id": "733db8d6-87b8-4797-97be-d3b901422ded",
   "metadata": {},
   "outputs": [],
   "source": [
    "@swich_property \n",
    "class ExampleClass:\n",
    "    # Но не здесь\n",
    "    \n",
    "    def public_method(self):\n",
    "        return 1\n",
    "    \n",
    "    def _protected_method(self):\n",
    "        return 2\n",
    "    \n",
    "    def __private_method(self):\n",
    "        return 3\n",
    "    \n",
    "    def __dunder_method__(self):\n",
    "        pass"
   ]
  },
  {
   "cell_type": "code",
   "execution_count": 13,
   "id": "c936077d-e618-459c-bbcc-6ad1b22d0975",
   "metadata": {},
   "outputs": [
    {
     "data": {
      "text/plain": [
       "1"
      ]
     },
     "execution_count": 13,
     "metadata": {},
     "output_type": "execute_result"
    }
   ],
   "source": [
    "test_object = ExampleClass()\n",
    "test_object._ExampleClass__public_method()   # Публичный метод стал приватным"
   ]
  },
  {
   "cell_type": "code",
   "execution_count": 14,
   "id": "10603672-80cf-460c-9305-d0950094419d",
   "metadata": {},
   "outputs": [
    {
     "data": {
      "text/plain": [
       "3"
      ]
     },
     "execution_count": 14,
     "metadata": {},
     "output_type": "execute_result"
    }
   ],
   "source": [
    "test_object.private_method()   # Приватный метод стал публичным"
   ]
  },
  {
   "cell_type": "code",
   "execution_count": 15,
   "id": "f30b1ef8-0f80-482d-89f1-09caece61c88",
   "metadata": {},
   "outputs": [
    {
     "data": {
      "text/plain": [
       "2"
      ]
     },
     "execution_count": 15,
     "metadata": {},
     "output_type": "execute_result"
    }
   ],
   "source": [
    "test_object._protected_method()   # Защищённый метод остался защищённым"
   ]
  },
  {
   "cell_type": "code",
   "execution_count": 16,
   "id": "71d51e6e-62b5-4440-af3e-75088761b1bf",
   "metadata": {},
   "outputs": [],
   "source": [
    "test_object.__dunder_method__()   # Дандер метод не изменился"
   ]
  },
  {
   "cell_type": "code",
   "execution_count": 17,
   "id": "a97cf0c4-4881-441c-83b6-ef8955377585",
   "metadata": {},
   "outputs": [
    {
     "data": {
      "text/plain": [
       "(False, False)"
      ]
     },
     "execution_count": 17,
     "metadata": {},
     "output_type": "execute_result"
    }
   ],
   "source": [
    "hasattr(test_object, \"public_method\"), hasattr(test_object, \"private\")   # Изначальные варианты изменённых методов не сохраняются\n"
   ]
  },
  {
   "cell_type": "markdown",
   "id": "31ad0bdd-9a24-4d6c-a499-e975b4b6acdd",
   "metadata": {},
   "source": [
    "# Задание 5 (7 баллов)"
   ]
  },
  {
   "cell_type": "markdown",
   "id": "68c75d25-37f7-491d-bcc0-ba74e8bdb364",
   "metadata": {},
   "source": [
    "Напишите [контекстный менеджер](https://docs.python.org/3/library/stdtypes.html#context-manager-types) `OpenFasta`\n",
    "\n",
    "Контекстные менеджеры это специальные объекты, которые могут работать с конструкцией `with ... as ...:`. В них нет ничего сложного, для их реализации как обычно нужно только определить только пару dunder методов. Изучите этот вопрос самостоятельно\n",
    "\n",
    "1. Объект должен работать как обычные файлы в питоне (наследоваться не надо, здесь лучше будет использовать **композицию**), но:\n",
    "    + При итерации по объекту мы должны будем получать не строку из файла, а специальный объект `FastaRecord`. Он будет хранить в себе информацию о последовательности. Важно, **не строки, а именно последовательности**, в fasta файлах последовательность часто разбивают на много строк\n",
    "    + Нужно написать методы `read_record` и `read_records`, которые по смыслу соответствуют `readline()` и `readlines()` в обычных файлах, но они должны выдавать не строки, а объект(ы) `FastaRecord`\n",
    "2. Конструктор должен принимать один аргумент - **путь к файлу**\n",
    "3. Класс должен эффективно распоряжаться памятью, с расчётом на работу с очень большими файлами\n",
    "    \n",
    "Объект `FastaRecord`. Это должен быть **датакласс** (см. про примеры декораторов в соответствующей лекции) с тремя полями:\n",
    "+ `seq` - последовательность\n",
    "+ `id_` - ID последовательности (это то, что в фаста файле в строке, которая начинается с `>` до первого пробела. Например, >**GTD326487.1** Species anonymous 24 chromosome) \n",
    "+ `description` - то, что осталось после ID (Например, >GTD326487.1 **Species anonymous 24 chromosome**)\n",
    "\n",
    "\n",
    "Напишите демонстрацию работы кода с использованием всех написанных методов, обязательно добавьте файл с тестовыми данными в репозиторий (не обязательно большой)\n",
    "\n",
    "**Можно использовать модули из стандартной библиотеки**"
   ]
  },
  {
   "cell_type": "code",
   "execution_count": 2,
   "id": "32292d2b",
   "metadata": {},
   "outputs": [],
   "source": [
    "from dataclasses import dataclass\n",
    "import os\n",
    "import re"
   ]
  },
  {
   "cell_type": "code",
   "execution_count": 3,
   "id": "cbd39f96",
   "metadata": {},
   "outputs": [],
   "source": [
    "@dataclass\n",
    "class FastaRecord:\n",
    "    seq: str\n",
    "    id_: str\n",
    "    description: str\n",
    "\n",
    "\n",
    "class OpenFasta:\n",
    "    def __init__(self, file_name):\n",
    "        self._fasta_record = FastaRecord(seq='', id_='', description='')\n",
    "        self.file_obj = open(file_name)\n",
    "        self.__seq_l = []\n",
    "\n",
    "    def __enter__(self):\n",
    "        return self\n",
    "\n",
    "    def __exit__(self, type, value, traceback):\n",
    "        self.file_obj.close()\n",
    "\n",
    "    def __iter__(self):\n",
    "        yield self.file_obj\n",
    "\n",
    "    def read_record(self):\n",
    "        counter_name_seq = 0\n",
    "        self.__seq_l.clear()\n",
    "        while counter_name_seq <= 2:\n",
    "            line = next(self.file_obj)\n",
    "            line = line.strip('\\n')\n",
    "            if line.startswith('#'):\n",
    "                continue\n",
    "            \n",
    "            elif line.startswith('>'):\n",
    "                if self._fasta_record.id_ == '':  # need for first line: >gene spesies\n",
    "                    self._fasta_record.id_, self._fasta_record.description = re.findall(r'(.+?) (.+)', line)[0]\n",
    "                else:\n",
    "                    self._fasta_record.seq = ''.join(self.__seq_l)\n",
    "                    # make object with current values\n",
    "                    current_fasta_record = self._fasta_record\n",
    "                    # clear current info\n",
    "                    self._fasta_record = FastaRecord(seq='', id_='', description='')\n",
    "                    # remember for next iteration\n",
    "                    self._fasta_record.id_, self._fasta_record.description = re.findall(r'(.+?) (.+)', line)[0]\n",
    "                    return current_fasta_record\n",
    "                \n",
    "            else:\n",
    "                self.__seq_l.append(line)\n",
    "\n",
    "    def read_records(self):\n",
    "        result_all_fasta = []\n",
    "        while True:\n",
    "            try:\n",
    "                result_all_fasta.append(self.read_record())\n",
    "            except StopIteration:\n",
    "                # write last sequences\n",
    "                self._fasta_record.seq = ''.join(self.__seq_l)\n",
    "                result_all_fasta.append(self._fasta_record)\n",
    "                return result_all_fasta"
   ]
  },
  {
   "cell_type": "code",
   "execution_count": 4,
   "id": "b1ba44fd",
   "metadata": {},
   "outputs": [],
   "source": [
    "with OpenFasta(os.path.join('data/', 'test_fasta.fasta')) as fasta:\n",
    "    first_record = fasta.read_record()\n",
    "    remaining_records = fasta.read_records()"
   ]
  },
  {
   "cell_type": "code",
   "execution_count": 5,
   "id": "48d38a7c",
   "metadata": {},
   "outputs": [
    {
     "name": "stdout",
     "output_type": "stream",
     "text": [
      "FastaRecord(seq='ATGGGCGATCTTGCTATGTCCGTAGCAGACATCAGGATGGAGAATGAGCCTGATGATTTAGCTAGTGATAATGTTGCTGAGATTGATGTGAGTGATGAAGAGATTGATGCTGACGACCTTGAGAGACGGATGTGGAAAGATCGTGTCAGGCTTAAAAGAATCAAAGAGCGACAAAAAGCTGGCTCTCAAGGA', id_='>AT0001', description='Arabidosis thaliana')\n"
     ]
    }
   ],
   "source": [
    "print(first_record)"
   ]
  },
  {
   "cell_type": "code",
   "execution_count": 6,
   "id": "89cb6cbd",
   "metadata": {},
   "outputs": [
    {
     "name": "stdout",
     "output_type": "stream",
     "text": [
      "[FastaRecord(seq='ATGTACGGAGACGCTACAAACTGGAATGAAGATGAGTATAGAGAATCAATTTTGAAGGAGCGAGAGATAGAGACACGCACCGTCTTCAGAACCGCCTGGGCTCCTCCGGCGAGAATCTCTAATCCAGACGCATTTGTTG', id_='>AT0002', description='Arabidosis thaliana'), FastaRecord(seq='ATGTACGGAGACGCTACAAACTGGAATGAAGATGAGTATAGAGAATCAATTTTGAAGGAGCGAGAGATAGAGAC', id_='>AT0003', description='Arabidosis thaliana')]\n"
     ]
    }
   ],
   "source": [
    "print(remaining_records)"
   ]
  },
  {
   "cell_type": "code",
   "execution_count": 7,
   "id": "ae026f22",
   "metadata": {},
   "outputs": [
    {
     "name": "stdout",
     "output_type": "stream",
     "text": [
      "[FastaRecord(seq='ATGGGCGATCTTGCTATGTCCGTAGCAGACATCAGGATGGAGAATGAGCCTGATGATTTAGCTAGTGATAATGTTGCTGAGATTGATGTGAGTGATGAAGAGATTGATGCTGACGACCTTGAGAGACGGATGTGGAAAGATCGTGTCAGGCTTAAAAGAATCAAAGAGCGACAAAAAGCTGGCTCTCAAGGA', id_='>AT0001', description='Arabidosis thaliana'), FastaRecord(seq='ATGTACGGAGACGCTACAAACTGGAATGAAGATGAGTATAGAGAATCAATTTTGAAGGAGCGAGAGATAGAGACACGCACCGTCTTCAGAACCGCCTGGGCTCCTCCGGCGAGAATCTCTAATCCAGACGCATTTGTTG', id_='>AT0002', description='Arabidosis thaliana'), FastaRecord(seq='ATGTACGGAGACGCTACAAACTGGAATGAAGATGAGTATAGAGAATCAATTTTGAAGGAGCGAGAGATAGAGAC', id_='>AT0003', description='Arabidosis thaliana')]\n"
     ]
    }
   ],
   "source": [
    "with OpenFasta(os.path.join('data/', 'test_fasta.fasta')) as fasta:\n",
    "    remaining_records = fasta.read_records()\n",
    "print(remaining_records)"
   ]
  },
  {
   "cell_type": "markdown",
   "id": "4db652e9-7697-4dd7-bcc3-649bdc18c1c4",
   "metadata": {},
   "source": [
    "# Задание 6 (7 баллов)"
   ]
  },
  {
   "cell_type": "markdown",
   "id": "a8ba05f3-29f0-48be-a477-c1f61a9e0537",
   "metadata": {},
   "source": [
    "1. Напишите код, который позволит получать все возможные (неуникальные) генотипы при скрещивании двух организмов. Это может быть функция или класс, что вам кажется более удобным.\n",
    "\n",
    "Например, все возможные исходы скрещивания \"Aabb\" и \"Aabb\" (неуникальные) это\n",
    "\n",
    "```\n",
    "AAbb\n",
    "AAbb\n",
    "AAbb\n",
    "AAbb\n",
    "Aabb\n",
    "Aabb\n",
    "Aabb\n",
    "Aabb\n",
    "Aabb\n",
    "Aabb\n",
    "Aabb\n",
    "Aabb\n",
    "aabb\n",
    "aabb\n",
    "aabb\n",
    "aabb\n",
    "```\n",
    "\n",
    "2. Напишите функцию, которая вычисляет вероятность появления определённого генотипа (его ожидаемую долю в потомстве).\n",
    "Например,\n",
    "\n",
    "```python\n",
    "get_offspting_genotype_probability(parent1=\"Aabb\", parent2=\"Aabb\", target_genotype=\"Аabb\")   # 0.5\n",
    "\n",
    "```\n",
    "\n",
    "3. Напишите код, который выводит все уникальные генотипы при скрещивании `'АаБбввГгДдЕеЖжЗзИиЙйккЛлМмНн'` и `'АаббВвГгДДЕеЖжЗзИиЙйКкЛлМмНН'`, которые содержат в себе следующую комбинацию аллелей `'АаБбВвГгДдЕеЖжЗзИиЙйКкЛл'`\n",
    "4. Напишите код, который расчитывает вероятность появления генотипа `'АаБбввГгДдЕеЖжЗзИиЙйккЛлМмНн'` при скрещивании `АаБбВвГгДдЕеЖжЗзИиЙйКкЛлМмНн` и `АаБбВвГгДдЕеЖжЗзИиЙйКкЛлМмНн`\n",
    "\n",
    "Важные замечания:\n",
    "1. Порядок следования аллелей в случае гетерозигот всегда должен быть следующим: сначала большая буква, затем маленькая (вариант `AaBb` допустим, но `aAbB` быть не должно)\n",
    "2. Подзадачи 3 и 4 могут потребовать много вычислительного времени (до 15+ минут в зависимости от железа), поэтому убедитесь, что вы хорошо протестировали написанный вами код на малых данных перед выполнением этих задач. Если ваш код работает **дольше 20 мин**, то скорее всего ваше решение не оптимально, попытайтесь что-нибудь оптимизировать. Если оптимальное решение совсем не получается, то попробуйте из входных данных во всех заданиях убрать последний ген (это должно уменьшить время выполнения примерно в 4 раза), но **за такое решение будет снято 2 балла**\n",
    "3. Несмотря на то, что подзадания 2, 3 и 4 возможно решить математически, не прибегая к непосредственному получению всех возможных генотипов, от вас требуется именно brute-force вариант алгоритма\n",
    "\n",
    "**Можно использовать модули из стандартной библиотеки питона**, но **за выполнение задания без использования модулей придусмотрено +3 дополнительных балла**"
   ]
  },
  {
   "cell_type": "code",
   "execution_count": 24,
   "id": "6434f925",
   "metadata": {},
   "outputs": [],
   "source": [
    "from datetime import datetime"
   ]
  },
  {
   "cell_type": "code",
   "execution_count": 25,
   "id": "53202c59",
   "metadata": {},
   "outputs": [],
   "source": [
    "class CrossingGenotypes:\n",
    "    def __init__(self, genotype1, genotype2):\n",
    "        self._split_genotype1 = self._split_by_chromosome_types(genotype1)\n",
    "        self._split_genotype2 = self._split_by_chromosome_types(genotype2)\n",
    "    \n",
    "    @staticmethod\n",
    "    def _split_by_chromosome_types(genotype):\n",
    "        splitted_chromosomes = []\n",
    "        possible_combinations = [[]]\n",
    "\n",
    "        lower_genotype = genotype.lower()\n",
    "        ploid = lower_genotype.count(lower_genotype[0])\n",
    "        \n",
    "        for idx in range(0, len(genotype) - 1, ploid):\n",
    "            splitted_chromosomes.append([genotype[idx], genotype[idx+1]])\n",
    "        \n",
    "        for chroms in splitted_chromosomes:\n",
    "            possible_combinations = [x+[y] for x in possible_combinations for y in chroms]  # based on itertools.product()\n",
    "        return possible_combinations\n",
    "    \n",
    "    def print_offspting(self):\n",
    "        for haplotype1 in self._split_genotype1:\n",
    "            for haplotype2 in self._split_genotype2:\n",
    "                new_possible_genotype = ''.join(sorted(sorted(haplotype1 + haplotype2), key=str.lower))\n",
    "                print(new_possible_genotype)\n",
    "    \n",
    "    def get_offspting_genotype_probability(self, offspring):\n",
    "        count_matches = 0\n",
    "        count_all_genotypes = 0\n",
    "        \n",
    "        for haplotype1 in self._split_genotype1:\n",
    "            for haplotype2 in self._split_genotype2:\n",
    "                count_all_genotypes += 1\n",
    "                new_possible_genotype = ''.join(sorted(sorted(haplotype1 + haplotype2), key=str.lower)) \n",
    "                if new_possible_genotype == offspring:\n",
    "                    count_matches += 1\n",
    "        return count_matches / count_all_genotypes\n",
    "    \n",
    "    def get_unique_genotypes_with_substring(self, substring):\n",
    "        remember_genotypes = []\n",
    "        \n",
    "        for haplotype1 in self._split_genotype1:\n",
    "            for haplotype2 in self._split_genotype2:\n",
    "                new_possible_genotype = ''.join(sorted(sorted(haplotype1 + haplotype2), key=str.lower))\n",
    "                if substring in new_possible_genotype and new_possible_genotype not in remember_genotypes:\n",
    "                    remember_genotypes.append(new_possible_genotype)\n",
    "                    print(new_possible_genotype)\n",
    "      "
   ]
  },
  {
   "cell_type": "code",
   "execution_count": 26,
   "id": "9d107b4a",
   "metadata": {},
   "outputs": [
    {
     "name": "stdout",
     "output_type": "stream",
     "text": [
      "AAbb\n",
      "AAbb\n",
      "Aabb\n",
      "Aabb\n",
      "AAbb\n",
      "AAbb\n",
      "Aabb\n",
      "Aabb\n",
      "Aabb\n",
      "Aabb\n",
      "aabb\n",
      "aabb\n",
      "Aabb\n",
      "Aabb\n",
      "aabb\n",
      "aabb\n",
      "0.5\n"
     ]
    }
   ],
   "source": [
    "# 1, 2\n",
    "genotype = CrossingGenotypes('Aabb', 'Aabb')\n",
    "genotype.print_offspting()\n",
    "print(genotype.get_offspting_genotype_probability('Aabb'))"
   ]
  },
  {
   "cell_type": "code",
   "execution_count": 27,
   "id": "a58b4d0f",
   "metadata": {},
   "outputs": [
    {
     "name": "stdout",
     "output_type": "stream",
     "text": [
      "АаБбВвГгДдЕеЖжЗзИиЙйКкЛлММНН\n",
      "АаБбВвГгДдЕеЖжЗзИиЙйКкЛлМмНН\n",
      "АаБбВвГгДдЕеЖжЗзИиЙйКкЛлММНн\n",
      "АаБбВвГгДдЕеЖжЗзИиЙйКкЛлМмНн\n",
      "АаБбВвГгДдЕеЖжЗзИиЙйКкЛлммНН\n",
      "АаБбВвГгДдЕеЖжЗзИиЙйКкЛлммНн\n"
     ]
    }
   ],
   "source": [
    "# 3\n",
    "start = datetime.now()\n",
    "lots_of_chromosomes = CrossingGenotypes('АаБбввГгДдЕеЖжЗзИиЙйккЛлМмНн', 'АаббВвГгДДЕеЖжЗзИиЙйКкЛлМмНН')\n",
    "lots_of_chromosomes.get_unique_genotypes_with_substring('АаБбВвГгДдЕеЖжЗзИиЙйКкЛл')\n",
    "stop = datetime.now()"
   ]
  },
  {
   "cell_type": "code",
   "execution_count": 28,
   "id": "290bdfbf",
   "metadata": {},
   "outputs": [
    {
     "name": "stdout",
     "output_type": "stream",
     "text": [
      "0:18:06.789252\n"
     ]
    }
   ],
   "source": [
    "print(stop - start)  # in PyCharm works 10-11 minutes"
   ]
  },
  {
   "cell_type": "code",
   "execution_count": 31,
   "id": "7399efa3",
   "metadata": {},
   "outputs": [
    {
     "name": "stdout",
     "output_type": "stream",
     "text": [
      "6.103515625e-05\n"
     ]
    }
   ],
   "source": [
    "# 4\n",
    "start = datetime.now()\n",
    "lots_of_chromosomes = CrossingGenotypes('АаБбввГгДдЕеЖжЗзИиЙйккЛлМмНн', 'АаБбВвГгДдЕеЖжЗзИиЙйКкЛлМмНн')\n",
    "print(lots_of_chromosomes.get_offspting_genotype_probability('АаБбввГгДдЕеЖжЗзИиЙйккЛлМмНн'))\n",
    "stop = datetime.now()"
   ]
  },
  {
   "cell_type": "code",
   "execution_count": 32,
   "id": "dc2d78fd",
   "metadata": {},
   "outputs": [
    {
     "name": "stdout",
     "output_type": "stream",
     "text": [
      "0:19:03.065887\n"
     ]
    }
   ],
   "source": [
    "print(stop - start)  # in PyCharm works 10-11 minutes"
   ]
  },
  {
   "cell_type": "code",
   "execution_count": null,
   "id": "19e74395",
   "metadata": {},
   "outputs": [],
   "source": []
  }
 ],
 "metadata": {
  "kernelspec": {
   "display_name": "Python 3 (ipykernel)",
   "language": "python",
   "name": "python3"
  },
  "language_info": {
   "codemirror_mode": {
    "name": "ipython",
    "version": 3
   },
   "file_extension": ".py",
   "mimetype": "text/x-python",
   "name": "python",
   "nbconvert_exporter": "python",
   "pygments_lexer": "ipython3",
   "version": "3.9.13"
  }
 },
 "nbformat": 4,
 "nbformat_minor": 5
}
